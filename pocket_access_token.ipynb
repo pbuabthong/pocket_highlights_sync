{
 "cells": [
  {
   "cell_type": "code",
   "execution_count": null,
   "metadata": {},
   "outputs": [],
   "source": [
    "import requests"
   ]
  },
  {
   "cell_type": "code",
   "execution_count": 1,
   "metadata": {},
   "outputs": [],
   "source": [
    "redirect_uri='https://example.com'\n",
    "consumer_key=''"
   ]
  },
  {
   "cell_type": "code",
   "execution_count": null,
   "metadata": {},
   "outputs": [],
   "source": [
    "r = requests.post(\n",
    "    'https://getpocket.com/v3/oauth/request', \n",
    "    data={\n",
    "        'consumer_key': consumer_key, \n",
    "        'redirect_uri': redirect_uri\n",
    "    },\n",
    "    headers={\n",
    "        'X-Accept': 'application/json'\n",
    "    }\n",
    ")\n",
    "code = r.json()['code']\n",
    "print(code)\n",
    "print('Goto https://getpocket.com/auth/authorize?request_token='\\\n",
    "      '%s&redirect_uri=%s' % (code, redirect_uri))"
   ]
  },
  {
   "cell_type": "code",
   "execution_count": null,
   "metadata": {},
   "outputs": [],
   "source": [
    "r = requests.post(\n",
    "    'https://getpocket.com/v3/oauth/authorize', \n",
    "    data={\n",
    "        'consumer_key': consumer_key, \n",
    "        'code': code \n",
    "    },\n",
    "    headers={\n",
    "        'Content-Type': 'application/x-www-form-urlencoded; charset=UTF-8',\n",
    "        'X-Accept': 'application/x-www-form-urlencoded'\n",
    "    }\n",
    ")"
   ]
  }
 ],
 "metadata": {
  "kernelspec": {
   "display_name": "Python 3",
   "language": "python",
   "name": "python3"
  },
  "language_info": {
   "codemirror_mode": {
    "name": "ipython",
    "version": 3
   },
   "file_extension": ".py",
   "mimetype": "text/x-python",
   "name": "python",
   "nbconvert_exporter": "python",
   "pygments_lexer": "ipython3",
   "version": "3.7.4"
  }
 },
 "nbformat": 4,
 "nbformat_minor": 2
}
